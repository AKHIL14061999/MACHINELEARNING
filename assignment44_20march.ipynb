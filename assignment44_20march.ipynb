{
 "cells": [
  {
   "cell_type": "markdown",
   "id": "25831a48-b590-423d-9e26-38b08870bb79",
   "metadata": {},
   "source": [
    "Question 1 : What is data encoding? How is it useful in data science?"
   ]
  },
  {
   "cell_type": "markdown",
   "id": "f3b955d9-9f49-4dca-8e51-8dde5181f22f",
   "metadata": {},
   "source": [
    "Answer :\n",
    "1. Data encoding is the process of converting data from one form to another. In machine learning, data encoding is used to convert categorical data into numerical data so that it can be used in machine learning models. There are two popular techniques for encoding categorical data: Ordinal Encoding and One-Hot Encoding.\n",
    "2. Categorical data is data that is divided into categories or groups, such as colors, shapes, or sizes. Machine learning models cannot work with categorical data directly, so it needs to be converted into numerical data.\n",
    "3. Ordinal encoding is a process of converting categorical data into integer format so that the data with converted categorical values can be provided to the models to give and improve the predictions.\n",
    "4. One-hot encoding is a process of converting categorical data into binary format so that the data with converted categorical values can be provided to the models to give and improve the predictions.\n",
    "5. Data encoding is useful in data science because it helps to convert categorical data into numerical data, which can be used in machine learning models. This helps to improve the accuracy of the models and make them more efficient."
   ]
  },
  {
   "cell_type": "markdown",
   "id": "89af86fa-6d33-4359-9f85-58eec1b639bc",
   "metadata": {},
   "source": [
    "Question 2: What is nominal encoding? Provide an example of how you would use it in a real-world scenario."
   ]
  },
  {
   "cell_type": "markdown",
   "id": "16f35715-c29d-4166-9f5f-342b82b6b7b5",
   "metadata": {},
   "source": [
    "Answer :\n",
    "1. Nominal encoding is a type of data encoding that is used to convert categorical data into numerical data. Nominal data is data that does not have an inherent order, such as colors, names, or categories\n",
    "2. An example of how nominal encoding can be used in a real-world scenario is in the analysis of customer data. Suppose a company has a customer database that includes information such as the customer’s name, age, gender, and location. The location data is nominal data because it does not have an inherent order. To use this data in a machine learning model, the location data needs to be converted into numerical data using nominal encoding.\n",
    "3. One way to do this is to use one-hot encoding, which creates a new binary feature for each category in the nominal data. For example, if the location data includes categories such as “New York,” “Los Angeles,” and “Chicago,” then one-hot encoding would create three new binary features, one for each category.\n",
    "4. Nominal encoding is useful in data science because it helps to convert categorical data into numerical data, which can be used in machine learning models.\n",
    "Example of One Hot Encoding below\n",
    "One Hot Encoding"
   ]
  },
  {
   "cell_type": "markdown",
   "id": "e09f99fe-18f6-42db-bf1c-04de65444f3c",
   "metadata": {},
   "source": [
    "Question 3 : In what situations is nominal encoding preferred over one-hot encoding? Provide a practical example"
   ]
  },
  {
   "cell_type": "markdown",
   "id": "e47a42c3-75d7-45f1-bc69-0c619e5e5e13",
   "metadata": {},
   "source": [
    "Answer :\n",
    "Incorrect question asked here one-hot encoding is a process to encode nominal categorical variables which do not have ranks.\n",
    "Correct Question is When is ORDINAL Encoding preffered over One-Hot-Encoding\n",
    "1. Ordinal encoding is preferred over one-hot encoding when the categorical variable has a natural order or ranking. For example, in the context of machine learning, ordinal encoding can be used to encode the education level of a person, where the education level has a natural order such as “high school”, “bachelor’s degree”, “master’s degree”, and \"doctorate degree\".\n",
    "2. One-hot encoding is preferred when the categorical variable has no natural order or ranking. For example, in the context of machine learning, one-hot encoding can be used to encode the color of a car, where the colors have no natural order or ranking\n",
    "3. It is important to note that forcing an ordinal relationship via an ordinal encoding and allowing the model to assume a natural ordering between categories may result in poor performance or unexpected results (predictions halfway between categories).\n",
    "Type of Encoding\tExample\tDescription\n",
    "Ordinal Encoding\tEducation level\tUsed when the categorical variable has a natural order or ranking\n",
    "One-Hot Encoding\tCar color\tUsed when the categorical variable has no natural"
   ]
  },
  {
   "cell_type": "markdown",
   "id": "f1009330-3958-431e-a0ef-1e2a75195c83",
   "metadata": {},
   "source": [
    "Question 4 : Suppose you have a dataset containing categorical data with 5 unique values. Which encoding technique would you use to transform this data into a format suitable for machine learning algorithms? Explain why you made this choice."
   ]
  },
  {
   "cell_type": "markdown",
   "id": "a57587ae-810d-4cb3-bd86-1c360584a184",
   "metadata": {},
   "source": [
    "Answer :\n",
    "1. If I have a dataset containing categorical data with 5 unique values, I can use either ordinal encoding or one-hot encoding to transform this data into a format suitable for machine learning algorithms.\n",
    "2. If the categorical variable has a natural order or ranking, then ordinal encoding can be used. If the categorical variable has no natural order or ranking, then one-hot encoding can be used.\n",
    "3. In general, one-hot encoding is preferred over ordinal encoding because it does not assume any ordinal relationship between the categories and can be used for categorical variables with any number of unique values. However, one-hot encoding can lead to the curse of dimensionality if the number of unique values is very large.\n",
    "4. Ordinal encoding is preferred when the number of unique values is large and one-hot encoding would lead to the curse of dimensionality.\n",
    "\n"
   ]
  },
  {
   "cell_type": "markdown",
   "id": "72671fa3-7e15-4be0-8789-d71098777fd2",
   "metadata": {},
   "source": [
    "Question 5 : In a machine learning project, you have a dataset with 1000 rows and 5 columns. Two of the columns are categorical, and the remaining three columns are numerical. If you were to use nominal encoding to transform the categorical data, how many new columns would be created? Show your calculations.\n"
   ]
  },
  {
   "cell_type": "markdown",
   "id": "67af2c65-dc36-47f2-8f3b-a13a5d456b74",
   "metadata": {},
   "source": [
    "Answer :\n",
    "1. If I want to use nominal encoding to transform the categorical data, I would create a new column for each unique value in the categorical columns.\n",
    "2. Let’s assume that the first categorical column has 12 unique values and the second categorical column has 5 unique values. Then, nominal encoding/one-hot encoding would create 12 + 5 = 17 new columns.\n",
    "3. In general, if the first categorical column has n unique values and the second categorical column has m unique values, then nominal encoding would create n + m new columns.\n",
    "\n"
   ]
  },
  {
   "cell_type": "markdown",
   "id": "336d9bb0-f8dd-493d-822b-51b0adfdf65f",
   "metadata": {},
   "source": [
    "Question 6 : You are working with a dataset containing information about different types of animals, including their species, habitat, and diet. Which encoding technique would you use to transform the categorical data into a format suitable for machine learning algorithms? Justify your answer"
   ]
  },
  {
   "cell_type": "markdown",
   "id": "3675cb23-2f4b-461c-b938-53f48faee877",
   "metadata": {},
   "source": [
    "Answer :\n",
    "1. It is observed that variables species , habitat and diet are NOMINAL features with no natural order or ranking.\n",
    "2. If the categorical variable has no natural order or ranking, then one-hot encoding can be used.\n",
    "3. Hence One-Hot Encoding would be preffered in above case.\n",
    "\n"
   ]
  },
  {
   "cell_type": "markdown",
   "id": "7ac5f046-23a7-4871-8f96-f167633dfe60",
   "metadata": {},
   "source": [
    "Question 7 : You are working on a project that involves predicting customer churn for a telecommunications company. You have a dataset with 5 features, including the customer's gender, age, contract type, monthly charges, and tenure. Which encoding technique(s) would you use to transform the categorical data into numerical data? Provide a step-by-step explanation of how you would implement the encoding."
   ]
  },
  {
   "cell_type": "markdown",
   "id": "c1415303-3177-4015-810b-7039fea10f01",
   "metadata": {},
   "source": [
    "Answer :\n",
    "To transform the categorical data in the customer churn dataset into numerical data, you can use either ordinal encoding or one-hot encoding.\n",
    "If the categorical variable has a natural order or ranking, then ordinal encoding can be used. For example, if the dataset contains information about the contract type of the customers, such as “month-to-month”, “one year”, and “two year”, then ordinal encoding can be used to encode this information.\n",
    "If the categorical variable has no natural order or ranking, then one-hot encoding can be used. For example, if the dataset contains information about the gender of the customers, such as “male” and “female”, then one-hot encoding can be used to encode this information.\n",
    "Here are the steps to implement this encoding:\n",
    "Identify the categorical variables in the dataset. In this case, the categorical variables are the customer’s gender and contract type.\n",
    "\n",
    "Seperate Nominal and Ordinal Variables. In this case Gender is an Nominal variable, while contract type is ordinal variable.\n",
    "\n",
    "Apply One Hot Encoding to Nominal Variable in this case Gender Variable.\n",
    "\n",
    "Apply Ordinal Encoding to Ordinal Variable in this case contract type variable.\n",
    "\n",
    "Scale Numerical data using StandardScaler\n",
    "\n",
    "Combine all 3 encoding into single dataframe\n",
    "\n",
    "Data is now ready for machine learning model\n",
    "\n",
    "Creating an example dataset for above and providing how to perform above in python."
   ]
  },
  {
   "cell_type": "code",
   "execution_count": 2,
   "id": "a1bc46d1-476c-4aef-8556-376607a35802",
   "metadata": {},
   "outputs": [
    {
     "data": {
      "text/html": [
       "<div>\n",
       "<style scoped>\n",
       "    .dataframe tbody tr th:only-of-type {\n",
       "        vertical-align: middle;\n",
       "    }\n",
       "\n",
       "    .dataframe tbody tr th {\n",
       "        vertical-align: top;\n",
       "    }\n",
       "\n",
       "    .dataframe thead th {\n",
       "        text-align: right;\n",
       "    }\n",
       "</style>\n",
       "<table border=\"1\" class=\"dataframe\">\n",
       "  <thead>\n",
       "    <tr style=\"text-align: right;\">\n",
       "      <th></th>\n",
       "      <th>gender</th>\n",
       "      <th>age</th>\n",
       "      <th>contract</th>\n",
       "      <th>monthly_charges</th>\n",
       "      <th>tenure</th>\n",
       "      <th>churn</th>\n",
       "    </tr>\n",
       "  </thead>\n",
       "  <tbody>\n",
       "    <tr>\n",
       "      <th>0</th>\n",
       "      <td>Female</td>\n",
       "      <td>34</td>\n",
       "      <td>yearly</td>\n",
       "      <td>1042.202157</td>\n",
       "      <td>25</td>\n",
       "      <td>1</td>\n",
       "    </tr>\n",
       "    <tr>\n",
       "      <th>1</th>\n",
       "      <td>Female</td>\n",
       "      <td>36</td>\n",
       "      <td>half yearly</td>\n",
       "      <td>966.337735</td>\n",
       "      <td>12</td>\n",
       "      <td>1</td>\n",
       "    </tr>\n",
       "    <tr>\n",
       "      <th>2</th>\n",
       "      <td>Female</td>\n",
       "      <td>30</td>\n",
       "      <td>yearly</td>\n",
       "      <td>1165.040177</td>\n",
       "      <td>16</td>\n",
       "      <td>0</td>\n",
       "    </tr>\n",
       "    <tr>\n",
       "      <th>3</th>\n",
       "      <td>Female</td>\n",
       "      <td>44</td>\n",
       "      <td>quarterly</td>\n",
       "      <td>1002.266319</td>\n",
       "      <td>35</td>\n",
       "      <td>0</td>\n",
       "    </tr>\n",
       "    <tr>\n",
       "      <th>4</th>\n",
       "      <td>Male</td>\n",
       "      <td>53</td>\n",
       "      <td>half yearly</td>\n",
       "      <td>1043.851952</td>\n",
       "      <td>16</td>\n",
       "      <td>1</td>\n",
       "    </tr>\n",
       "  </tbody>\n",
       "</table>\n",
       "</div>"
      ],
      "text/plain": [
       "   gender  age     contract  monthly_charges  tenure  churn\n",
       "0  Female   34       yearly      1042.202157      25      1\n",
       "1  Female   36  half yearly       966.337735      12      1\n",
       "2  Female   30       yearly      1165.040177      16      0\n",
       "3  Female   44    quarterly      1002.266319      35      0\n",
       "4    Male   53  half yearly      1043.851952      16      1"
      ]
     },
     "execution_count": 2,
     "metadata": {},
     "output_type": "execute_result"
    }
   ],
   "source": [
    "# Generating Synthetic Dataset for above variables\n",
    "import numpy as np\n",
    "import pandas as pd\n",
    "\n",
    "# Setting random seed \n",
    "np.random.seed(543)\n",
    "n = 1000 # dataset size\n",
    "gender = np.random.choice(['Male','Female'],size=n)\n",
    "age = np.random.randint(low=25, high=65, size=n)\n",
    "contract = np.random.choice(['monthly','quarterly','half yearly','yearly'], size=n)\n",
    "monthly_charges = np.random.normal(loc=1000, scale=100,size=n)\n",
    "tenure = np.random.randint(low=12, high=36, size=n)\n",
    "churn = np.random.choice([1,0], p=[0.2,0.8], size=n)\n",
    "\n",
    "# Creating dictionary\n",
    "dct = {\n",
    "    'gender':gender,\n",
    "    'age':age,\n",
    "    'contract':contract,\n",
    "    'monthly_charges':monthly_charges,\n",
    "    'tenure':tenure,\n",
    "    'churn':churn\n",
    "}\n",
    "\n",
    "# Creating Dataframe\n",
    "df = pd.DataFrame(dct)\n",
    "df.head()"
   ]
  },
  {
   "cell_type": "code",
   "execution_count": 4,
   "id": "a165b637-fb79-42a1-837c-9d7891881a44",
   "metadata": {},
   "outputs": [],
   "source": [
    "# Seperating X and Y\n",
    "X = df.drop(labels=['churn'],axis=1)\n",
    "Y = df[['churn']]"
   ]
  },
  {
   "cell_type": "code",
   "execution_count": 5,
   "id": "a27247a9-d30e-4ecc-a8ce-65611c729748",
   "metadata": {},
   "outputs": [
    {
     "data": {
      "text/html": [
       "<div>\n",
       "<style scoped>\n",
       "    .dataframe tbody tr th:only-of-type {\n",
       "        vertical-align: middle;\n",
       "    }\n",
       "\n",
       "    .dataframe tbody tr th {\n",
       "        vertical-align: top;\n",
       "    }\n",
       "\n",
       "    .dataframe thead th {\n",
       "        text-align: right;\n",
       "    }\n",
       "</style>\n",
       "<table border=\"1\" class=\"dataframe\">\n",
       "  <thead>\n",
       "    <tr style=\"text-align: right;\">\n",
       "      <th></th>\n",
       "      <th>gender_Female</th>\n",
       "      <th>gender_Male</th>\n",
       "    </tr>\n",
       "  </thead>\n",
       "  <tbody>\n",
       "    <tr>\n",
       "      <th>0</th>\n",
       "      <td>1.0</td>\n",
       "      <td>0.0</td>\n",
       "    </tr>\n",
       "    <tr>\n",
       "      <th>1</th>\n",
       "      <td>1.0</td>\n",
       "      <td>0.0</td>\n",
       "    </tr>\n",
       "    <tr>\n",
       "      <th>2</th>\n",
       "      <td>1.0</td>\n",
       "      <td>0.0</td>\n",
       "    </tr>\n",
       "    <tr>\n",
       "      <th>3</th>\n",
       "      <td>1.0</td>\n",
       "      <td>0.0</td>\n",
       "    </tr>\n",
       "    <tr>\n",
       "      <th>4</th>\n",
       "      <td>0.0</td>\n",
       "      <td>1.0</td>\n",
       "    </tr>\n",
       "  </tbody>\n",
       "</table>\n",
       "</div>"
      ],
      "text/plain": [
       "   gender_Female  gender_Male\n",
       "0            1.0          0.0\n",
       "1            1.0          0.0\n",
       "2            1.0          0.0\n",
       "3            1.0          0.0\n",
       "4            0.0          1.0"
      ]
     },
     "execution_count": 5,
     "metadata": {},
     "output_type": "execute_result"
    }
   ],
   "source": [
    "# Performing one hot encoding on gender column\n",
    "from sklearn.preprocessing import OneHotEncoder\n",
    "ohe = OneHotEncoder()\n",
    "gender_ohe = ohe.fit_transform(X[['gender']]).toarray()\n",
    "# Get the DataFrame\n",
    "X_gender = pd.DataFrame(gender_ohe,columns=ohe.get_feature_names_out())\n",
    "X_gender.head()"
   ]
  },
  {
   "cell_type": "code",
   "execution_count": 6,
   "id": "85e32547-ec45-4620-8c58-c0b0b1c40abb",
   "metadata": {},
   "outputs": [
    {
     "data": {
      "text/html": [
       "<div>\n",
       "<style scoped>\n",
       "    .dataframe tbody tr th:only-of-type {\n",
       "        vertical-align: middle;\n",
       "    }\n",
       "\n",
       "    .dataframe tbody tr th {\n",
       "        vertical-align: top;\n",
       "    }\n",
       "\n",
       "    .dataframe thead th {\n",
       "        text-align: right;\n",
       "    }\n",
       "</style>\n",
       "<table border=\"1\" class=\"dataframe\">\n",
       "  <thead>\n",
       "    <tr style=\"text-align: right;\">\n",
       "      <th></th>\n",
       "      <th>contract</th>\n",
       "    </tr>\n",
       "  </thead>\n",
       "  <tbody>\n",
       "    <tr>\n",
       "      <th>0</th>\n",
       "      <td>3.0</td>\n",
       "    </tr>\n",
       "    <tr>\n",
       "      <th>1</th>\n",
       "      <td>2.0</td>\n",
       "    </tr>\n",
       "    <tr>\n",
       "      <th>2</th>\n",
       "      <td>3.0</td>\n",
       "    </tr>\n",
       "    <tr>\n",
       "      <th>3</th>\n",
       "      <td>1.0</td>\n",
       "    </tr>\n",
       "    <tr>\n",
       "      <th>4</th>\n",
       "      <td>2.0</td>\n",
       "    </tr>\n",
       "  </tbody>\n",
       "</table>\n",
       "</div>"
      ],
      "text/plain": [
       "   contract\n",
       "0       3.0\n",
       "1       2.0\n",
       "2       3.0\n",
       "3       1.0\n",
       "4       2.0"
      ]
     },
     "execution_count": 6,
     "metadata": {},
     "output_type": "execute_result"
    }
   ],
   "source": [
    "# Performing ordinal encoding on Contract type\n",
    "from sklearn.preprocessing import OrdinalEncoder\n",
    "ord_enc = OrdinalEncoder(categories=[['monthly','quarterly','half yearly','yearly']])\n",
    "# Getting ordinal dataframe\n",
    "contract_encoded = ord_enc.fit_transform(X[['contract']]).flatten()\n",
    "X_contract = pd.DataFrame(contract_encoded,columns=['contract'])\n",
    "X_contract.head()"
   ]
  },
  {
   "cell_type": "code",
   "execution_count": 7,
   "id": "dacdf10b-6e2b-49a5-ac48-4d40a0f1f9be",
   "metadata": {},
   "outputs": [
    {
     "data": {
      "text/html": [
       "<div>\n",
       "<style scoped>\n",
       "    .dataframe tbody tr th:only-of-type {\n",
       "        vertical-align: middle;\n",
       "    }\n",
       "\n",
       "    .dataframe tbody tr th {\n",
       "        vertical-align: top;\n",
       "    }\n",
       "\n",
       "    .dataframe thead th {\n",
       "        text-align: right;\n",
       "    }\n",
       "</style>\n",
       "<table border=\"1\" class=\"dataframe\">\n",
       "  <thead>\n",
       "    <tr style=\"text-align: right;\">\n",
       "      <th></th>\n",
       "      <th>age</th>\n",
       "      <th>monthly_charges</th>\n",
       "      <th>tenure</th>\n",
       "    </tr>\n",
       "  </thead>\n",
       "  <tbody>\n",
       "    <tr>\n",
       "      <th>0</th>\n",
       "      <td>34</td>\n",
       "      <td>1042.202157</td>\n",
       "      <td>25</td>\n",
       "    </tr>\n",
       "    <tr>\n",
       "      <th>1</th>\n",
       "      <td>36</td>\n",
       "      <td>966.337735</td>\n",
       "      <td>12</td>\n",
       "    </tr>\n",
       "    <tr>\n",
       "      <th>2</th>\n",
       "      <td>30</td>\n",
       "      <td>1165.040177</td>\n",
       "      <td>16</td>\n",
       "    </tr>\n",
       "    <tr>\n",
       "      <th>3</th>\n",
       "      <td>44</td>\n",
       "      <td>1002.266319</td>\n",
       "      <td>35</td>\n",
       "    </tr>\n",
       "    <tr>\n",
       "      <th>4</th>\n",
       "      <td>53</td>\n",
       "      <td>1043.851952</td>\n",
       "      <td>16</td>\n",
       "    </tr>\n",
       "  </tbody>\n",
       "</table>\n",
       "</div>"
      ],
      "text/plain": [
       "   age  monthly_charges  tenure\n",
       "0   34      1042.202157      25\n",
       "1   36       966.337735      12\n",
       "2   30      1165.040177      16\n",
       "3   44      1002.266319      35\n",
       "4   53      1043.851952      16"
      ]
     },
     "execution_count": 7,
     "metadata": {},
     "output_type": "execute_result"
    }
   ],
   "source": [
    "# Getting numeric variables\n",
    "X_numeric = X.select_dtypes(exclude='object')\n",
    "X_numeric.head()"
   ]
  },
  {
   "cell_type": "code",
   "execution_count": 8,
   "id": "3a1d3e3e-0daa-4508-8d0c-171dfdc3fe12",
   "metadata": {},
   "outputs": [
    {
     "data": {
      "text/html": [
       "<div>\n",
       "<style scoped>\n",
       "    .dataframe tbody tr th:only-of-type {\n",
       "        vertical-align: middle;\n",
       "    }\n",
       "\n",
       "    .dataframe tbody tr th {\n",
       "        vertical-align: top;\n",
       "    }\n",
       "\n",
       "    .dataframe thead th {\n",
       "        text-align: right;\n",
       "    }\n",
       "</style>\n",
       "<table border=\"1\" class=\"dataframe\">\n",
       "  <thead>\n",
       "    <tr style=\"text-align: right;\">\n",
       "      <th></th>\n",
       "      <th>age</th>\n",
       "      <th>monthly_charges</th>\n",
       "      <th>tenure</th>\n",
       "      <th>contract</th>\n",
       "      <th>gender_Female</th>\n",
       "      <th>gender_Male</th>\n",
       "    </tr>\n",
       "  </thead>\n",
       "  <tbody>\n",
       "    <tr>\n",
       "      <th>0</th>\n",
       "      <td>34</td>\n",
       "      <td>1042.202157</td>\n",
       "      <td>25</td>\n",
       "      <td>3.0</td>\n",
       "      <td>1.0</td>\n",
       "      <td>0.0</td>\n",
       "    </tr>\n",
       "    <tr>\n",
       "      <th>1</th>\n",
       "      <td>36</td>\n",
       "      <td>966.337735</td>\n",
       "      <td>12</td>\n",
       "      <td>2.0</td>\n",
       "      <td>1.0</td>\n",
       "      <td>0.0</td>\n",
       "    </tr>\n",
       "    <tr>\n",
       "      <th>2</th>\n",
       "      <td>30</td>\n",
       "      <td>1165.040177</td>\n",
       "      <td>16</td>\n",
       "      <td>3.0</td>\n",
       "      <td>1.0</td>\n",
       "      <td>0.0</td>\n",
       "    </tr>\n",
       "    <tr>\n",
       "      <th>3</th>\n",
       "      <td>44</td>\n",
       "      <td>1002.266319</td>\n",
       "      <td>35</td>\n",
       "      <td>1.0</td>\n",
       "      <td>1.0</td>\n",
       "      <td>0.0</td>\n",
       "    </tr>\n",
       "    <tr>\n",
       "      <th>4</th>\n",
       "      <td>53</td>\n",
       "      <td>1043.851952</td>\n",
       "      <td>16</td>\n",
       "      <td>2.0</td>\n",
       "      <td>0.0</td>\n",
       "      <td>1.0</td>\n",
       "    </tr>\n",
       "  </tbody>\n",
       "</table>\n",
       "</div>"
      ],
      "text/plain": [
       "   age  monthly_charges  tenure  contract  gender_Female  gender_Male\n",
       "0   34      1042.202157      25       3.0            1.0          0.0\n",
       "1   36       966.337735      12       2.0            1.0          0.0\n",
       "2   30      1165.040177      16       3.0            1.0          0.0\n",
       "3   44      1002.266319      35       1.0            1.0          0.0\n",
       "4   53      1043.851952      16       2.0            0.0          1.0"
      ]
     },
     "execution_count": 8,
     "metadata": {},
     "output_type": "execute_result"
    }
   ],
   "source": [
    "# Concatenating all 3 variables Nominal, Ordinal and Numerical\n",
    "X_encoded = pd.concat([X_numeric,X_contract,X_gender],axis=1)\n",
    "X_encoded.head()"
   ]
  },
  {
   "cell_type": "code",
   "execution_count": 9,
   "id": "ad52af97-3dbe-4acf-a2dc-1d6d665bbf56",
   "metadata": {},
   "outputs": [
    {
     "data": {
      "text/html": [
       "<div>\n",
       "<style scoped>\n",
       "    .dataframe tbody tr th:only-of-type {\n",
       "        vertical-align: middle;\n",
       "    }\n",
       "\n",
       "    .dataframe tbody tr th {\n",
       "        vertical-align: top;\n",
       "    }\n",
       "\n",
       "    .dataframe thead th {\n",
       "        text-align: right;\n",
       "    }\n",
       "</style>\n",
       "<table border=\"1\" class=\"dataframe\">\n",
       "  <thead>\n",
       "    <tr style=\"text-align: right;\">\n",
       "      <th></th>\n",
       "      <th>age</th>\n",
       "      <th>monthly_charges</th>\n",
       "      <th>tenure</th>\n",
       "      <th>contract</th>\n",
       "      <th>gender_Female</th>\n",
       "      <th>gender_Male</th>\n",
       "    </tr>\n",
       "  </thead>\n",
       "  <tbody>\n",
       "    <tr>\n",
       "      <th>0</th>\n",
       "      <td>-0.897852</td>\n",
       "      <td>0.446463</td>\n",
       "      <td>0.244225</td>\n",
       "      <td>1.354668</td>\n",
       "      <td>0.992032</td>\n",
       "      <td>-0.992032</td>\n",
       "    </tr>\n",
       "    <tr>\n",
       "      <th>1</th>\n",
       "      <td>-0.722935</td>\n",
       "      <td>-0.322028</td>\n",
       "      <td>-1.622281</td>\n",
       "      <td>0.462265</td>\n",
       "      <td>0.992032</td>\n",
       "      <td>-0.992032</td>\n",
       "    </tr>\n",
       "    <tr>\n",
       "      <th>2</th>\n",
       "      <td>-1.247688</td>\n",
       "      <td>1.690786</td>\n",
       "      <td>-1.047972</td>\n",
       "      <td>1.354668</td>\n",
       "      <td>0.992032</td>\n",
       "      <td>-0.992032</td>\n",
       "    </tr>\n",
       "    <tr>\n",
       "      <th>3</th>\n",
       "      <td>-0.023264</td>\n",
       "      <td>0.041921</td>\n",
       "      <td>1.679999</td>\n",
       "      <td>-0.430138</td>\n",
       "      <td>0.992032</td>\n",
       "      <td>-0.992032</td>\n",
       "    </tr>\n",
       "    <tr>\n",
       "      <th>4</th>\n",
       "      <td>0.763865</td>\n",
       "      <td>0.463175</td>\n",
       "      <td>-1.047972</td>\n",
       "      <td>0.462265</td>\n",
       "      <td>-1.008032</td>\n",
       "      <td>1.008032</td>\n",
       "    </tr>\n",
       "  </tbody>\n",
       "</table>\n",
       "</div>"
      ],
      "text/plain": [
       "        age  monthly_charges    tenure  contract  gender_Female  gender_Male\n",
       "0 -0.897852         0.446463  0.244225  1.354668       0.992032    -0.992032\n",
       "1 -0.722935        -0.322028 -1.622281  0.462265       0.992032    -0.992032\n",
       "2 -1.247688         1.690786 -1.047972  1.354668       0.992032    -0.992032\n",
       "3 -0.023264         0.041921  1.679999 -0.430138       0.992032    -0.992032\n",
       "4  0.763865         0.463175 -1.047972  0.462265      -1.008032     1.008032"
      ]
     },
     "execution_count": 9,
     "metadata": {},
     "output_type": "execute_result"
    }
   ],
   "source": [
    "# Applying StandardScaler to entire encoded dataset\n",
    "from sklearn.preprocessing import StandardScaler\n",
    "scaler = StandardScaler()\n",
    "X_final = pd.DataFrame(scaler.fit_transform(X_encoded),columns=X_encoded.columns)\n",
    "X_final.head()"
   ]
  },
  {
   "cell_type": "code",
   "execution_count": 10,
   "id": "e207c022-b933-47dd-818d-2d351ac8bfcd",
   "metadata": {},
   "outputs": [],
   "source": [
    "# Train test split\n",
    "from sklearn.model_selection import train_test_split\n",
    "xtrain, xtest, ytrain, ytest = train_test_split(X_final,Y,test_size=0.2, random_state=42, stratify=Y)"
   ]
  },
  {
   "cell_type": "code",
   "execution_count": 11,
   "id": "8ea93746-8f92-4820-911e-48adbf028833",
   "metadata": {},
   "outputs": [
    {
     "data": {
      "text/html": [
       "<div>\n",
       "<style scoped>\n",
       "    .dataframe tbody tr th:only-of-type {\n",
       "        vertical-align: middle;\n",
       "    }\n",
       "\n",
       "    .dataframe tbody tr th {\n",
       "        vertical-align: top;\n",
       "    }\n",
       "\n",
       "    .dataframe thead th {\n",
       "        text-align: right;\n",
       "    }\n",
       "</style>\n",
       "<table border=\"1\" class=\"dataframe\">\n",
       "  <thead>\n",
       "    <tr style=\"text-align: right;\">\n",
       "      <th></th>\n",
       "      <th>age</th>\n",
       "      <th>monthly_charges</th>\n",
       "      <th>tenure</th>\n",
       "      <th>contract</th>\n",
       "      <th>gender_Female</th>\n",
       "      <th>gender_Male</th>\n",
       "    </tr>\n",
       "  </thead>\n",
       "  <tbody>\n",
       "    <tr>\n",
       "      <th>514</th>\n",
       "      <td>-0.635476</td>\n",
       "      <td>-0.898498</td>\n",
       "      <td>-1.478704</td>\n",
       "      <td>1.354668</td>\n",
       "      <td>-1.008032</td>\n",
       "      <td>1.008032</td>\n",
       "    </tr>\n",
       "    <tr>\n",
       "      <th>224</th>\n",
       "      <td>-1.072770</td>\n",
       "      <td>-0.721926</td>\n",
       "      <td>-1.191549</td>\n",
       "      <td>-1.322542</td>\n",
       "      <td>-1.008032</td>\n",
       "      <td>1.008032</td>\n",
       "    </tr>\n",
       "    <tr>\n",
       "      <th>845</th>\n",
       "      <td>1.463536</td>\n",
       "      <td>-0.933469</td>\n",
       "      <td>-0.617239</td>\n",
       "      <td>0.462265</td>\n",
       "      <td>0.992032</td>\n",
       "      <td>-0.992032</td>\n",
       "    </tr>\n",
       "    <tr>\n",
       "      <th>736</th>\n",
       "      <td>1.026242</td>\n",
       "      <td>-1.537408</td>\n",
       "      <td>0.962112</td>\n",
       "      <td>-1.322542</td>\n",
       "      <td>0.992032</td>\n",
       "      <td>-0.992032</td>\n",
       "    </tr>\n",
       "    <tr>\n",
       "      <th>792</th>\n",
       "      <td>-0.722935</td>\n",
       "      <td>-0.673444</td>\n",
       "      <td>0.818535</td>\n",
       "      <td>-0.430138</td>\n",
       "      <td>0.992032</td>\n",
       "      <td>-0.992032</td>\n",
       "    </tr>\n",
       "  </tbody>\n",
       "</table>\n",
       "</div>"
      ],
      "text/plain": [
       "          age  monthly_charges    tenure  contract  gender_Female  gender_Male\n",
       "514 -0.635476        -0.898498 -1.478704  1.354668      -1.008032     1.008032\n",
       "224 -1.072770        -0.721926 -1.191549 -1.322542      -1.008032     1.008032\n",
       "845  1.463536        -0.933469 -0.617239  0.462265       0.992032    -0.992032\n",
       "736  1.026242        -1.537408  0.962112 -1.322542       0.992032    -0.992032\n",
       "792 -0.722935        -0.673444  0.818535 -0.430138       0.992032    -0.992032"
      ]
     },
     "execution_count": 11,
     "metadata": {},
     "output_type": "execute_result"
    }
   ],
   "source": [
    "xtrain.head()"
   ]
  },
  {
   "cell_type": "code",
   "execution_count": 12,
   "id": "062bb272-8766-48c8-a857-c7a277dea19c",
   "metadata": {},
   "outputs": [
    {
     "data": {
      "text/html": [
       "<div>\n",
       "<style scoped>\n",
       "    .dataframe tbody tr th:only-of-type {\n",
       "        vertical-align: middle;\n",
       "    }\n",
       "\n",
       "    .dataframe tbody tr th {\n",
       "        vertical-align: top;\n",
       "    }\n",
       "\n",
       "    .dataframe thead th {\n",
       "        text-align: right;\n",
       "    }\n",
       "</style>\n",
       "<table border=\"1\" class=\"dataframe\">\n",
       "  <thead>\n",
       "    <tr style=\"text-align: right;\">\n",
       "      <th></th>\n",
       "      <th>churn</th>\n",
       "    </tr>\n",
       "  </thead>\n",
       "  <tbody>\n",
       "    <tr>\n",
       "      <th>514</th>\n",
       "      <td>0</td>\n",
       "    </tr>\n",
       "    <tr>\n",
       "      <th>224</th>\n",
       "      <td>0</td>\n",
       "    </tr>\n",
       "    <tr>\n",
       "      <th>845</th>\n",
       "      <td>0</td>\n",
       "    </tr>\n",
       "    <tr>\n",
       "      <th>736</th>\n",
       "      <td>0</td>\n",
       "    </tr>\n",
       "    <tr>\n",
       "      <th>792</th>\n",
       "      <td>0</td>\n",
       "    </tr>\n",
       "  </tbody>\n",
       "</table>\n",
       "</div>"
      ],
      "text/plain": [
       "     churn\n",
       "514      0\n",
       "224      0\n",
       "845      0\n",
       "736      0\n",
       "792      0"
      ]
     },
     "execution_count": 12,
     "metadata": {},
     "output_type": "execute_result"
    }
   ],
   "source": [
    "ytrain.head()"
   ]
  },
  {
   "cell_type": "code",
   "execution_count": 13,
   "id": "60fb1764-d741-4006-92cc-3145d729e1b2",
   "metadata": {},
   "outputs": [
    {
     "data": {
      "text/html": [
       "<div>\n",
       "<style scoped>\n",
       "    .dataframe tbody tr th:only-of-type {\n",
       "        vertical-align: middle;\n",
       "    }\n",
       "\n",
       "    .dataframe tbody tr th {\n",
       "        vertical-align: top;\n",
       "    }\n",
       "\n",
       "    .dataframe thead th {\n",
       "        text-align: right;\n",
       "    }\n",
       "</style>\n",
       "<table border=\"1\" class=\"dataframe\">\n",
       "  <thead>\n",
       "    <tr style=\"text-align: right;\">\n",
       "      <th></th>\n",
       "      <th>age</th>\n",
       "      <th>monthly_charges</th>\n",
       "      <th>tenure</th>\n",
       "      <th>contract</th>\n",
       "      <th>gender_Female</th>\n",
       "      <th>gender_Male</th>\n",
       "    </tr>\n",
       "  </thead>\n",
       "  <tbody>\n",
       "    <tr>\n",
       "      <th>855</th>\n",
       "      <td>0.676407</td>\n",
       "      <td>1.817057</td>\n",
       "      <td>0.244225</td>\n",
       "      <td>-0.430138</td>\n",
       "      <td>0.992032</td>\n",
       "      <td>-0.992032</td>\n",
       "    </tr>\n",
       "    <tr>\n",
       "      <th>942</th>\n",
       "      <td>0.064195</td>\n",
       "      <td>-0.282519</td>\n",
       "      <td>-1.335126</td>\n",
       "      <td>1.354668</td>\n",
       "      <td>0.992032</td>\n",
       "      <td>-0.992032</td>\n",
       "    </tr>\n",
       "    <tr>\n",
       "      <th>234</th>\n",
       "      <td>-0.897852</td>\n",
       "      <td>1.087411</td>\n",
       "      <td>-1.335126</td>\n",
       "      <td>0.462265</td>\n",
       "      <td>0.992032</td>\n",
       "      <td>-0.992032</td>\n",
       "    </tr>\n",
       "    <tr>\n",
       "      <th>108</th>\n",
       "      <td>-0.985311</td>\n",
       "      <td>1.015790</td>\n",
       "      <td>-1.622281</td>\n",
       "      <td>0.462265</td>\n",
       "      <td>0.992032</td>\n",
       "      <td>-0.992032</td>\n",
       "    </tr>\n",
       "    <tr>\n",
       "      <th>697</th>\n",
       "      <td>0.151654</td>\n",
       "      <td>-1.651405</td>\n",
       "      <td>-1.622281</td>\n",
       "      <td>1.354668</td>\n",
       "      <td>0.992032</td>\n",
       "      <td>-0.992032</td>\n",
       "    </tr>\n",
       "  </tbody>\n",
       "</table>\n",
       "</div>"
      ],
      "text/plain": [
       "          age  monthly_charges    tenure  contract  gender_Female  gender_Male\n",
       "855  0.676407         1.817057  0.244225 -0.430138       0.992032    -0.992032\n",
       "942  0.064195        -0.282519 -1.335126  1.354668       0.992032    -0.992032\n",
       "234 -0.897852         1.087411 -1.335126  0.462265       0.992032    -0.992032\n",
       "108 -0.985311         1.015790 -1.622281  0.462265       0.992032    -0.992032\n",
       "697  0.151654        -1.651405 -1.622281  1.354668       0.992032    -0.992032"
      ]
     },
     "execution_count": 13,
     "metadata": {},
     "output_type": "execute_result"
    }
   ],
   "source": [
    "xtest.head()"
   ]
  },
  {
   "cell_type": "code",
   "execution_count": 14,
   "id": "e1f2d9e9-b81c-475b-a5c5-1c418213e0ab",
   "metadata": {},
   "outputs": [
    {
     "data": {
      "text/html": [
       "<div>\n",
       "<style scoped>\n",
       "    .dataframe tbody tr th:only-of-type {\n",
       "        vertical-align: middle;\n",
       "    }\n",
       "\n",
       "    .dataframe tbody tr th {\n",
       "        vertical-align: top;\n",
       "    }\n",
       "\n",
       "    .dataframe thead th {\n",
       "        text-align: right;\n",
       "    }\n",
       "</style>\n",
       "<table border=\"1\" class=\"dataframe\">\n",
       "  <thead>\n",
       "    <tr style=\"text-align: right;\">\n",
       "      <th></th>\n",
       "      <th>churn</th>\n",
       "    </tr>\n",
       "  </thead>\n",
       "  <tbody>\n",
       "    <tr>\n",
       "      <th>855</th>\n",
       "      <td>0</td>\n",
       "    </tr>\n",
       "    <tr>\n",
       "      <th>942</th>\n",
       "      <td>0</td>\n",
       "    </tr>\n",
       "    <tr>\n",
       "      <th>234</th>\n",
       "      <td>0</td>\n",
       "    </tr>\n",
       "    <tr>\n",
       "      <th>108</th>\n",
       "      <td>0</td>\n",
       "    </tr>\n",
       "    <tr>\n",
       "      <th>697</th>\n",
       "      <td>0</td>\n",
       "    </tr>\n",
       "  </tbody>\n",
       "</table>\n",
       "</div>"
      ],
      "text/plain": [
       "     churn\n",
       "855      0\n",
       "942      0\n",
       "234      0\n",
       "108      0\n",
       "697      0"
      ]
     },
     "execution_count": 14,
     "metadata": {},
     "output_type": "execute_result"
    }
   ],
   "source": [
    "ytest.head()"
   ]
  },
  {
   "cell_type": "markdown",
   "id": "aba947e5-61a6-45f6-ad6f-3195f0bf8a75",
   "metadata": {},
   "source": [
    "Above data is now ready for machine learning algorithms."
   ]
  },
  {
   "cell_type": "code",
   "execution_count": null,
   "id": "e9668aff-9f3a-4d5f-85fd-87a12d92dd2c",
   "metadata": {},
   "outputs": [],
   "source": []
  },
  {
   "cell_type": "code",
   "execution_count": null,
   "id": "104e48ae-99fe-4de3-938b-56605a782887",
   "metadata": {},
   "outputs": [],
   "source": []
  },
  {
   "cell_type": "code",
   "execution_count": null,
   "id": "eb11c1b8-505b-4519-b3df-06cb24d5bccf",
   "metadata": {},
   "outputs": [],
   "source": []
  },
  {
   "cell_type": "code",
   "execution_count": null,
   "id": "9be2ad54-198e-4da3-9dc0-917380ec7236",
   "metadata": {},
   "outputs": [],
   "source": []
  },
  {
   "cell_type": "code",
   "execution_count": null,
   "id": "3ca3762f-6d74-419d-888d-dc8ab8aa0650",
   "metadata": {},
   "outputs": [],
   "source": []
  },
  {
   "cell_type": "code",
   "execution_count": null,
   "id": "291f423a-1a56-4170-86b1-1289010c151f",
   "metadata": {},
   "outputs": [],
   "source": []
  },
  {
   "cell_type": "code",
   "execution_count": null,
   "id": "6b188fb4-a392-4d5d-b77d-ccabbfe7d5a4",
   "metadata": {},
   "outputs": [],
   "source": []
  },
  {
   "cell_type": "code",
   "execution_count": null,
   "id": "034783ca-ef04-4c51-9d86-3ea375e116b8",
   "metadata": {},
   "outputs": [],
   "source": []
  },
  {
   "cell_type": "code",
   "execution_count": null,
   "id": "b60a1100-03a2-4434-94db-9bc8ee3631ff",
   "metadata": {},
   "outputs": [],
   "source": []
  },
  {
   "cell_type": "code",
   "execution_count": null,
   "id": "ea6901f6-95d9-40c0-9d0a-b0bda6467632",
   "metadata": {},
   "outputs": [],
   "source": []
  },
  {
   "cell_type": "code",
   "execution_count": null,
   "id": "79c50eae-523e-477b-9b59-68f74f6bc8d8",
   "metadata": {},
   "outputs": [],
   "source": []
  },
  {
   "cell_type": "code",
   "execution_count": null,
   "id": "fa034401-6249-4cc5-b7a4-febf30120a4b",
   "metadata": {},
   "outputs": [],
   "source": []
  },
  {
   "cell_type": "code",
   "execution_count": null,
   "id": "77d5a881-9970-4e12-8834-8bea42864c4e",
   "metadata": {},
   "outputs": [],
   "source": []
  },
  {
   "cell_type": "code",
   "execution_count": null,
   "id": "7fa00adb-a93b-465c-9bed-aab10efd06ad",
   "metadata": {},
   "outputs": [],
   "source": []
  },
  {
   "cell_type": "code",
   "execution_count": null,
   "id": "e6c6bc85-370e-4ed6-a109-70859e4715cc",
   "metadata": {},
   "outputs": [],
   "source": []
  },
  {
   "cell_type": "code",
   "execution_count": null,
   "id": "987c28f2-042e-4de9-bdd3-26277f4bc18a",
   "metadata": {},
   "outputs": [],
   "source": []
  },
  {
   "cell_type": "code",
   "execution_count": null,
   "id": "5a0da49b-7659-4f4b-919e-334ffcb13c5b",
   "metadata": {},
   "outputs": [],
   "source": []
  },
  {
   "cell_type": "code",
   "execution_count": null,
   "id": "438c9734-777c-49cb-95de-be60b45ca68b",
   "metadata": {},
   "outputs": [],
   "source": []
  },
  {
   "cell_type": "code",
   "execution_count": null,
   "id": "1011af50-a079-467a-843a-d20f1cf5b7e8",
   "metadata": {},
   "outputs": [],
   "source": []
  },
  {
   "cell_type": "code",
   "execution_count": null,
   "id": "91d23cae-3ec5-4f32-85b3-2dce9c8f4f26",
   "metadata": {},
   "outputs": [],
   "source": []
  },
  {
   "cell_type": "code",
   "execution_count": null,
   "id": "138cfc9a-b58a-4b8c-bdb7-8de776e8d961",
   "metadata": {},
   "outputs": [],
   "source": []
  },
  {
   "cell_type": "code",
   "execution_count": null,
   "id": "351cf906-03e7-4a2b-b636-906e3c40be6b",
   "metadata": {},
   "outputs": [],
   "source": []
  },
  {
   "cell_type": "code",
   "execution_count": null,
   "id": "7f183e71-06f6-42f2-bef3-babe2c2bbd25",
   "metadata": {},
   "outputs": [],
   "source": []
  },
  {
   "cell_type": "code",
   "execution_count": null,
   "id": "824d74aa-a4bd-409f-a2de-904d2be30f75",
   "metadata": {},
   "outputs": [],
   "source": []
  },
  {
   "cell_type": "code",
   "execution_count": null,
   "id": "9d0d1f18-5e1f-425f-800e-44902a3db725",
   "metadata": {},
   "outputs": [],
   "source": []
  },
  {
   "cell_type": "code",
   "execution_count": null,
   "id": "890afa37-f604-4458-bfea-2ace686fb6d1",
   "metadata": {},
   "outputs": [],
   "source": []
  },
  {
   "cell_type": "code",
   "execution_count": null,
   "id": "ad83b943-2dc1-428e-bc60-d9295930a151",
   "metadata": {},
   "outputs": [],
   "source": []
  },
  {
   "cell_type": "code",
   "execution_count": null,
   "id": "0b0a993a-4d4c-408c-9d7c-6c967b64fbf1",
   "metadata": {},
   "outputs": [],
   "source": []
  },
  {
   "cell_type": "code",
   "execution_count": null,
   "id": "c30ffba7-67ed-40ea-9a36-413fb59970ad",
   "metadata": {},
   "outputs": [],
   "source": []
  },
  {
   "cell_type": "code",
   "execution_count": null,
   "id": "589fbdc3-e443-4e78-9e24-637bac3ed888",
   "metadata": {},
   "outputs": [],
   "source": []
  },
  {
   "cell_type": "code",
   "execution_count": null,
   "id": "63c91bd9-8644-4e60-9dbe-e776c3156ec5",
   "metadata": {},
   "outputs": [],
   "source": []
  },
  {
   "cell_type": "code",
   "execution_count": null,
   "id": "939df1ae-e64f-4312-a656-fc6b6f8afd3d",
   "metadata": {},
   "outputs": [],
   "source": []
  },
  {
   "cell_type": "code",
   "execution_count": null,
   "id": "fa819bff-efe9-4712-a739-a18d50d4dc93",
   "metadata": {},
   "outputs": [],
   "source": []
  },
  {
   "cell_type": "code",
   "execution_count": null,
   "id": "843fb8d5-2eaa-48fd-8104-16880486b28d",
   "metadata": {},
   "outputs": [],
   "source": []
  },
  {
   "cell_type": "code",
   "execution_count": null,
   "id": "d6cb0da0-ebb7-46b4-8dca-0b5488b5cdf1",
   "metadata": {},
   "outputs": [],
   "source": []
  },
  {
   "cell_type": "code",
   "execution_count": null,
   "id": "e2c2eac8-73eb-4475-b232-2a7eff80ccc5",
   "metadata": {},
   "outputs": [],
   "source": []
  }
 ],
 "metadata": {
  "kernelspec": {
   "display_name": "Python 3 (ipykernel)",
   "language": "python",
   "name": "python3"
  },
  "language_info": {
   "codemirror_mode": {
    "name": "ipython",
    "version": 3
   },
   "file_extension": ".py",
   "mimetype": "text/x-python",
   "name": "python",
   "nbconvert_exporter": "python",
   "pygments_lexer": "ipython3",
   "version": "3.10.8"
  }
 },
 "nbformat": 4,
 "nbformat_minor": 5
}
